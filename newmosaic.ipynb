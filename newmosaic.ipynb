{
 "cells": [
  {
   "cell_type": "code",
   "execution_count": 1,
   "metadata": {},
   "outputs": [],
   "source": [
    "from astropy.io import fits\n",
    "from astropy.coordinates import SkyCoord\n",
    "from pyvo.dal import imagesearch"
   ]
  },
  {
   "cell_type": "code",
   "execution_count": 2,
   "metadata": {},
   "outputs": [],
   "source": [
    "# fits_images = ['814.fits','815.fits','886.fits','887.fits']\n",
    "fits_images = ['mosaic_6deg_j00815_1asec.fits','mosaic_6deg_j00886_1asec.fits']\n",
    "fits_files = [fits.open(f)[0] for f in fits_images]"
   ]
  },
  {
   "cell_type": "code",
   "execution_count": 3,
   "metadata": {},
   "outputs": [],
   "source": [
    "from reproject.mosaicking import find_optimal_celestial_wcs\n",
    "wcs_out, shape_out = find_optimal_celestial_wcs(fits_files)"
   ]
  },
  {
   "cell_type": "code",
   "execution_count": 4,
   "metadata": {},
   "outputs": [
    {
     "data": {
      "text/plain": [
       "WCSAXES =                    2 / Number of coordinate axes                      \n",
       "CRPIX1  =      2309.4609986453 / Pixel coordinate of reference point            \n",
       "CRPIX2  =      4333.1134646205 / Pixel coordinate of reference point            \n",
       "CDELT1  =        -0.0002777778 / [deg] Coordinate increment at reference point  \n",
       "CDELT2  =         0.0002777778 / [deg] Coordinate increment at reference point  \n",
       "CUNIT1  = 'deg'                / Units of coordinate increment and value        \n",
       "CUNIT2  = 'deg'                / Units of coordinate increment and value        \n",
       "CTYPE1  = 'RA---TAN'           / Right ascension, gnomonic projection           \n",
       "CTYPE2  = 'DEC--TAN'           / Declination, gnomonic projection               \n",
       "CRVAL1  =      277.49523127846 / [deg] Coordinate value at reference point      \n",
       "CRVAL2  =     -2.5023786781264 / [deg] Coordinate value at reference point      \n",
       "LONPOLE =                180.0 / [deg] Native longitude of celestial pole       \n",
       "LATPOLE =     -2.5023786781264 / [deg] Native latitude of celestial pole        \n",
       "MJDREF  =                  0.0 / [d] MJD of fiducial time                       \n",
       "RADESYS = 'FK5'                / Equatorial coordinate system                   \n",
       "EQUINOX =               2000.0 / [yr] Equinox of equatorial coordinates         "
      ]
     },
     "execution_count": 4,
     "metadata": {},
     "output_type": "execute_result"
    }
   ],
   "source": [
    "wcs_out.to_header()  "
   ]
  },
  {
   "cell_type": "code",
   "execution_count": 5,
   "metadata": {},
   "outputs": [],
   "source": [
    "from reproject import reproject_interp\n",
    "from reproject.mosaicking import reproject_and_coadd\n",
    "array, footprint = reproject_and_coadd(fits_files,\n",
    "                                       wcs_out, shape_out=shape_out,\n",
    "                                       reproject_function=reproject_interp)"
   ]
  },
  {
   "cell_type": "code",
   "execution_count": 6,
   "metadata": {},
   "outputs": [
    {
     "data": {
      "text/plain": [
       "Text(0.5, 1.0, 'Footprint')"
      ]
     },
     "execution_count": 6,
     "metadata": {},
     "output_type": "execute_result"
    },
    {
     "data": {
      "image/png": "[encoded data removed]",
      "text/plain": [
       "<Figure size 1000x800 with 2 Axes>"
      ]
     },
     "metadata": {},
     "output_type": "display_data"
    }
   ],
   "source": [
    "import numpy as np\n",
    "import matplotlib.pyplot as plt\n",
    "\n",
    "plt.figure(figsize=(10, 8))\n",
    "ax1 = plt.subplot(1, 2, 1)\n",
    "im1 = ax1.imshow(array, origin='lower', vmin=600, vmax=800)\n",
    "ax1.set_title('Mosaic')\n",
    "ax2 = plt.subplot(1, 2, 2)\n",
    "im2 = ax2.imshow(footprint, origin='lower')\n",
    "ax2.set_title('Footprint')"
   ]
  },
  {
   "cell_type": "code",
   "execution_count": null,
   "metadata": {},
   "outputs": [],
   "source": []
  }
 ],
 "metadata": {
  "kernelspec": {
   "display_name": "Python 3",
   "language": "python",
   "name": "python3"
  },
  "language_info": {
   "codemirror_mode": {
    "name": "ipython",
    "version": 3
   },
   "file_extension": ".py",
   "mimetype": "text/x-python",
   "name": "python",
   "nbconvert_exporter": "python",
   "pygments_lexer": "ipython3",
   "version": "3.9.13"
  },
  "orig_nbformat": 4
 },
 "nbformat": 4,
 "nbformat_minor": 2
}
