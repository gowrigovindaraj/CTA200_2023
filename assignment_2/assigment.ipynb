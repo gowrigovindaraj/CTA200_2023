{
 "cells": [
  {
   "cell_type": "markdown",
   "metadata": {},
   "source": [
    "## Assignment 2\n",
    "## Gowri Govindaraj"
   ]
  },
  {
   "attachments": {},
   "cell_type": "markdown",
   "metadata": {},
   "source": [
    "## Q1"
   ]
  },
  {
   "cell_type": "code",
   "execution_count": 2,
   "metadata": {},
   "outputs": [],
   "source": [
    "# f = x**3 - x**2 - 1\n",
    "def f(x):\n",
    "    return x**3 - x**2 - 1\n",
    "\n",
    "def df(x):\n",
    "    return 3*x**2 - 2*x"
   ]
  },
  {
   "attachments": {},
   "cell_type": "markdown",
   "metadata": {},
   "source": [
    "## Q2"
   ]
  },
  {
   "cell_type": "code",
   "execution_count": 4,
   "metadata": {},
   "outputs": [],
   "source": [
    "import numpy as np"
   ]
  },
  {
   "cell_type": "code",
   "execution_count": 5,
   "metadata": {},
   "outputs": [],
   "source": [
    "max_iter = 30\n",
    "eps = 1e-6\n",
    "\n",
    "def newton_raphsen(f, df, x0, max_iter, eps):\n",
    "    '''\n",
    "    f: function\n",
    "    df: derivative of f\n",
    "    x0: initial value\n",
    "    max_iter: maximum iteration\n",
    "    eps: epsilon\n",
    "    '''\n",
    "    x = x0\n",
    "    for i in range(max_iter):\n",
    "        x = x - f(x) / df(x)\n",
    "        if abs(f(x)) < eps:\n",
    "            print('Found root in', i, 'iterations.')\n",
    "            break\n",
    "        if i == max_iter - 1:\n",
    "            print('Iteration failed.')\n",
    "            return\n",
    "    return x\n"
   ]
  },
  {
   "cell_type": "markdown",
   "metadata": {},
   "source": [
    "## Q3"
   ]
  },
  {
   "cell_type": "code",
   "execution_count": 6,
   "metadata": {},
   "outputs": [
    {
     "name": "stdout",
     "output_type": "stream",
     "text": [
      "Found root in 4 iterations.\n"
     ]
    },
    {
     "data": {
      "text/plain": [
       "1.4655713749070918"
      ]
     },
     "execution_count": 6,
     "metadata": {},
     "output_type": "execute_result"
    }
   ],
   "source": [
    "newton_raphsen(f, df, 1, max_iter, eps)"
   ]
  },
  {
   "cell_type": "code",
   "execution_count": 7,
   "metadata": {},
   "outputs": [
    {
     "name": "stdout",
     "output_type": "stream",
     "text": [
      "Found root in 5 iterations.\n"
     ]
    },
    {
     "data": {
      "text/plain": [
       "1.4655712318767877"
      ]
     },
     "execution_count": 7,
     "metadata": {},
     "output_type": "execute_result"
    }
   ],
   "source": [
    "eps = 1e-8\n",
    "newton_raphsen(f, df, 1, max_iter, eps)"
   ]
  }
 ],
 "metadata": {
  "kernelspec": {
   "display_name": "Python 3",
   "language": "python",
   "name": "python3"
  },
  "language_info": {
   "codemirror_mode": {
    "name": "ipython",
    "version": 3
   },
   "file_extension": ".py",
   "mimetype": "text/x-python",
   "name": "python",
   "nbconvert_exporter": "python",
   "pygments_lexer": "ipython3",
   "version": "3.9.13"
  },
  "orig_nbformat": 4
 },
 "nbformat": 4,
 "nbformat_minor": 2
}
